{
  "nbformat": 4,
  "nbformat_minor": 0,
  "metadata": {
    "colab": {
      "provenance": []
    },
    "kernelspec": {
      "name": "python3",
      "display_name": "Python 3"
    },
    "language_info": {
      "name": "python"
    }
  },
  "cells": [
    {
      "cell_type": "markdown",
      "source": [
        "**Preprocessing data**"
      ],
      "metadata": {
        "id": "ibof8MoH6eKE"
      }
    },
    {
      "cell_type": "code",
      "execution_count": 3,
      "metadata": {
        "colab": {
          "base_uri": "https://localhost:8080/"
        },
        "id": "sZ0eHFMlnmzU",
        "outputId": "26c14909-bb86-4e1b-e691-1856fddba517"
      },
      "outputs": [
        {
          "output_type": "stream",
          "name": "stderr",
          "text": [
            "[nltk_data] Downloading package stopwords to /root/nltk_data...\n",
            "[nltk_data]   Package stopwords is already up-to-date!\n"
          ]
        },
        {
          "output_type": "stream",
          "name": "stdout",
          "text": [
            "Done renaming column names\n",
            "sentiment\n",
            "0    800000\n",
            "4    800000\n",
            "Name: count, dtype: int64\n",
            "sentiment\n",
            "0    800000\n",
            "1    800000\n",
            "Name: count, dtype: int64\n",
            "Done setting 0 and 1 to negative and positive\n"
          ]
        }
      ],
      "source": [
        "import pandas as pd\n",
        "import numpy as np\n",
        "import re\n",
        "from sklearn.feature_extraction.text import TfidfVectorizer\n",
        "from sklearn.model_selection import train_test_split\n",
        "from sklearn.linear_model import LogisticRegression\n",
        "from sklearn.metrics import accuracy_score\n",
        "import nltk\n",
        "from nltk.corpus import stopwords\n",
        "from nltk.stem.porter import PorterStemmer\n",
        "import joblib\n",
        "nltk.download('stopwords')\n",
        "\n",
        "# Sentiment analysis reference\n",
        "# https://www.youtube.com/watch?v=4YGkfAd2iXM&t=2915s\n",
        "\n",
        "# Displaying stopwords\n",
        "# print(stopwords.words('english'))\n",
        "\n",
        "# Loading in data and naming columns to original names as in the dataset\n",
        "dataset = \"/content/drive/MyDrive/sentimentDataset.csv\"\n",
        "\n",
        "naming_col = ['target', 'id', 'date', 'flag', 'user', 'text']\n",
        "\n",
        "data = pd.read_csv(dataset, names=naming_col, encoding=\"latin1\")\n",
        "\n",
        "# print(data.columns)\n",
        "\n",
        "# Renaming columns\n",
        "data.columns = ['sentiment', 'id', 'date', 'query', 'user', 'tweet']\n",
        "\n",
        "print(\"Done renaming column names\")\n",
        "\n",
        "# print(data.columns)\n",
        "# print(data.head())\n",
        "\n",
        "# Checking for any null values\n",
        "# data.isnull().sum()\n",
        "# print(data.shape)\n",
        "\n",
        "# Number of distributions for positive and negative values\n",
        "print(data['sentiment'].value_counts())\n",
        "\n",
        "# sentiment\n",
        "# 0    800000 Negative values\n",
        "# 4    800000 Positive values\n",
        "\n",
        "data.isnull().sum()\n",
        "\n",
        "# Replacing 4 with 1 (assigning positive sentiment the value of 1)\n",
        "data.replace({'sentiment': {4: 1}}, inplace=True)\n",
        "print(data['sentiment'].value_counts())\n",
        "\n",
        "print(\"Done setting 0 and 1 to negative and positive\")\n",
        "\n",
        "# sentiment\n",
        "# 0    800000 Negative values\n",
        "# 1    800000 Positive values\n"
      ]
    },
    {
      "cell_type": "markdown",
      "source": [
        "**Preprocessing data continued (Stemming)**"
      ],
      "metadata": {
        "id": "k2ZreSjC6lmI"
      }
    },
    {
      "cell_type": "code",
      "source": [
        "# Stemming words with NLTK\n",
        "# https://www.geeksforgeeks.org/python-stemming-words-with-nltk/\n",
        "'''\n",
        "Stemming is the process of producing morphological variants of a root/base word.\n",
        "Some examples of stemming for root word \"like\" include:\n",
        "\n",
        "-> \"likes\"\n",
        "-> \"liked\"\n",
        "-> \"likely\"\n",
        "-> \"liking\"\n",
        "'''\n",
        "\n",
        "# Stemming object\n",
        "ps = PorterStemmer()\n",
        "\n",
        "stop_words = set(stopwords.words('english'))\n",
        "\n",
        "# Function to stem all words in the tweet\n",
        "def stemming(content):\n",
        "\n",
        "    # Removes every letter in the content that is not a to z letters\n",
        "    stemmed = re.sub('[^a-zA-Z]', ' ', content)\n",
        "    stemmed = stemmed.lower()\n",
        "    stemmed = stemmed.split()\n",
        "\n",
        "    # How many words are stemmed\n",
        "    stemmed_count = 0\n",
        "\n",
        "    stemmed = [ps.stem(word) for word in stemmed if not word in stop_words]\n",
        "\n",
        "    stemmed = ' '.join(stemmed)\n",
        "\n",
        "    return stemmed\n",
        "\n",
        "\n",
        "# Adding a new column called stemmed in the dataset to\n",
        "data['stemmed'] = data['tweet'].apply(stemming)\n",
        "\n",
        "print(\"Done stemming!\")\n"
      ],
      "metadata": {
        "colab": {
          "base_uri": "https://localhost:8080/"
        },
        "id": "ZzWOlvCbnuFl",
        "outputId": "8bc3f1aa-7db2-46d3-ecdc-6df6e972f1be"
      },
      "execution_count": 4,
      "outputs": [
        {
          "output_type": "stream",
          "name": "stdout",
          "text": [
            "Done stemming!\n"
          ]
        }
      ]
    },
    {
      "cell_type": "markdown",
      "source": [
        "**Train/Test split** <br>\n",
        "**Tokenizing data** <br>\n",
        "**Training model**"
      ],
      "metadata": {
        "id": "HjMw_H8P6qW-"
      }
    },
    {
      "cell_type": "code",
      "source": [
        "# Feature and target split\n",
        "feature = data['stemmed'].values\n",
        "target = data['sentiment'].values\n",
        "\n",
        "# Train and test split of feature and target variables\n",
        "X_train, X_test, Y_train, Y_test = train_test_split(feature, target, test_size=0.2, stratify=target, random_state=42)\n",
        "\n",
        "print(\"Done splitting\")\n",
        "\n",
        "# Vectorizer to convert raw data to matrix of TF-IDF features\n",
        "# https://stats.stackexchange.com/questions/154660/tfidfvectorizer-should-it-be-used-on-train-only-or-traintest\n",
        "vectorizer = TfidfVectorizer()\n",
        "\n",
        "# Vectorizing test and training feature variables\n",
        "X_train = vectorizer.fit_transform(X_train.tolist())\n",
        "X_test = vectorizer.transform(X_test.tolist())\n",
        "\n",
        "print(\"Done vectorizing\")\n",
        "\n",
        "# Logistic regression model\n",
        "logistic_model = LogisticRegression(max_iter=1000)\n",
        "\n",
        "print(\"Training\")\n",
        "\n",
        "# Train model\n",
        "logistic_model.fit(X_train, Y_train)\n",
        "\n",
        "print(\"Done training!\")\n",
        "\n",
        "X_train_pred = logistic_model.predict(X_train)\n",
        "acc = accuracy_score(Y_train, X_train_pred)\n",
        "\n",
        "print(\"Train Accuracy:\", acc)\n",
        "\n",
        "X_test_pred = logistic_model.predict(X_test)\n",
        "test_acc = accuracy_score(Y_test, X_test_pred)\n",
        "\n",
        "print(\"Test Accuracy:\", test_acc)\n",
        "\n",
        "joblib.dump(logistic_model, '/content/model.pkl')"
      ],
      "metadata": {
        "colab": {
          "base_uri": "https://localhost:8080/"
        },
        "id": "ogGOU2gynxse",
        "outputId": "f55a6b24-4e5a-49de-ee0f-4ce5468d4ef9"
      },
      "execution_count": 5,
      "outputs": [
        {
          "output_type": "stream",
          "name": "stdout",
          "text": [
            "Done splitting\n",
            "Done vectorizing\n",
            "Training\n",
            "Done training!\n",
            "Train Accuracy: 0.81021171875\n",
            "Test Accuracy: 0.778690625\n"
          ]
        },
        {
          "output_type": "execute_result",
          "data": {
            "text/plain": [
              "['/content/model.pkl']"
            ]
          },
          "metadata": {},
          "execution_count": 5
        }
      ]
    },
    {
      "cell_type": "markdown",
      "source": [
        "**Accuracy, Precision, Recall, and F-1 Score metrics**"
      ],
      "metadata": {
        "id": "M8xX3Wj-7Znm"
      }
    },
    {
      "cell_type": "code",
      "source": [
        "from sklearn.metrics import classification_report\n",
        "\n",
        "print('Classification report')\n",
        "print(classification_report(Y_test, X_test_pred))"
      ],
      "metadata": {
        "colab": {
          "base_uri": "https://localhost:8080/"
        },
        "id": "jLzcgmeYn0uB",
        "outputId": "b2d995c0-1d86-409e-b7cc-77f84cfb43ec"
      },
      "execution_count": 6,
      "outputs": [
        {
          "output_type": "stream",
          "name": "stdout",
          "text": [
            "Classification report\n",
            "              precision    recall  f1-score   support\n",
            "\n",
            "           0       0.79      0.76      0.77    160000\n",
            "           1       0.77      0.80      0.78    160000\n",
            "\n",
            "    accuracy                           0.78    320000\n",
            "   macro avg       0.78      0.78      0.78    320000\n",
            "weighted avg       0.78      0.78      0.78    320000\n",
            "\n"
          ]
        }
      ]
    },
    {
      "cell_type": "markdown",
      "source": [
        "**Confusion matrix**"
      ],
      "metadata": {
        "id": "Klb6Fq0x7j7B"
      }
    },
    {
      "cell_type": "code",
      "source": [
        "from sklearn.metrics import confusion_matrix\n",
        "import seaborn as sns\n",
        "import matplotlib.pyplot as plt\n",
        "\n",
        "# Confusion matrix\n",
        "cm = confusion_matrix(Y_test, X_test_pred)\n",
        "\n",
        "# Plotting the heatmap\n",
        "plt.figure(figsize=(8, 6))\n",
        "sns.heatmap(cm, annot=True, fmt=\"d\", cmap='Greens', xticklabels=['Negative', 'Positive'], yticklabels=['Negative', 'Positive'])\n",
        "plt.xlabel('Predicted')\n",
        "plt.ylabel('Actual')\n",
        "plt.title('Confusion Matrix Heatmap')\n",
        "plt.show()"
      ],
      "metadata": {
        "colab": {
          "base_uri": "https://localhost:8080/",
          "height": 564
        },
        "id": "r2gDIEQOn24J",
        "outputId": "a2b89061-625f-4bd0-9808-9cfc65fab49c"
      },
      "execution_count": 10,
      "outputs": [
        {
          "output_type": "display_data",
          "data": {
            "text/plain": [
              "<Figure size 800x600 with 2 Axes>"
            ],
            "image/png": "[encoded data removed]"
          },
          "metadata": {}
        }
      ]
    },
    {
      "cell_type": "markdown",
      "source": [
        "**Testing pre-trained model**"
      ],
      "metadata": {
        "id": "60p1UUHw7rgf"
      }
    },
    {
      "cell_type": "code",
      "source": [
        "load_model = joblib.load('/content/model.pkl')\n",
        "\n",
        "# Sentences to test it out with\n",
        "# I love rainy days.            ##Positive\n",
        "# I hate rainy days.            ##Negative\n",
        "# I like rainy days.            #Supposed to be positive but is negative\n",
        "# I love to do all the chores but don't like to do the dishes.          ##Positive since the person likes most of the chores but one\n",
        "\n",
        "sample_sentence = \"I hate rainy days.\"\n",
        "\n",
        "# Stemming the sentence words\n",
        "preprocess_sentence = stemming(sample_sentence)\n",
        "\n",
        "# Tokenizing\n",
        "tokenized_sentence = vectorizer.transform([preprocess_sentence])\n",
        "\n",
        "# Prediction\n",
        "sentence_prediction = load_model.predict(tokenized_sentence)\n",
        "\n",
        "if sentence_prediction == 0:\n",
        "  print(\"The sentence has a negative sentiment :/\")\n",
        "else:\n",
        "  print(\"The sentence has a positive sentiment!\")"
      ],
      "metadata": {
        "colab": {
          "base_uri": "https://localhost:8080/"
        },
        "id": "Woz5uY7g3kPW",
        "outputId": "2c6076a3-daf8-467b-a35d-b2c47dc3af83"
      },
      "execution_count": 29,
      "outputs": [
        {
          "output_type": "stream",
          "name": "stdout",
          "text": [
            "The sentence has a negative sentiment :/\n"
          ]
        }
      ]
    }
  ]
}